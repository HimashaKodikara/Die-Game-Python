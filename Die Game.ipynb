{
 "cells": [
  {
   "cell_type": "code",
   "execution_count": 13,
   "id": "922e7313",
   "metadata": {},
   "outputs": [],
   "source": [
    "import random\n",
    "die=lambda : random.randint(1,6)\n",
    "def dice_game(rounds):\n",
    "    player1=input(\"Enter your name :\")\n",
    "    player2=input(\"Enter your name :\")\n",
    "    p1win=0\n",
    "    p2win=0\n",
    "    rn=1\n",
    "    \n",
    "    while rn<=rounds:\n",
    "        if rn!=1:\n",
    "            print(\"Please Press ENTER to continue \")\n",
    "       \n",
    "        pl1=die()\n",
    "        pl2=die()\n",
    "\n",
    "        print(\"{} roll: {} & {} roll: {}\".format(player1,pl1,player2,pl2))\n",
    "        \n",
    "        if pl1==pl2:\n",
    "            print(\"Round was drawn\")\n",
    "        elif pl1>pl2:\n",
    "            print(\"Round was won by {}\".format(player1))\n",
    "            p1win+=1\n",
    "        else :\n",
    "            print(\"Round was won by {}\".format(player2))\n",
    "            p2win+=1\n",
    "            \n",
    "            \n",
    "        rn+=1\n",
    "        print(\"**********************\")\n",
    "        print(\"______________________\")\n",
    "        print(\"End of the Game\")\n",
    "        print(\"_____________________\")\n",
    "        if p1win==p2win:\n",
    "                print(\"Game was drawn\")\n",
    "        elif p1win>p2win:\n",
    "            print(\"Game was won by {} ,{} have won,{} out of {}\".format(player1,player1,p1win,rounds))\n",
    "\n",
    "        else :\n",
    "            print(\"Game was won by {} , {} have won,{} out of {}\".format(player2,player2,p2win,rounds))\n",
    "\n",
    "\n",
    "\n",
    "        \n",
    "    "
   ]
  },
  {
   "cell_type": "code",
   "execution_count": 14,
   "id": "49f6ca3c",
   "metadata": {},
   "outputs": [
    {
     "name": "stdout",
     "output_type": "stream",
     "text": [
      "Enter your name :o\n",
      "Enter your name :p\n",
      "o roll: 5 & p roll: 4\n",
      "Round was won by o\n",
      "**********************\n",
      "______________________\n",
      "End of the Game\n",
      "_____________________\n",
      "Game was won by o ,o have won,1 out of 3\n",
      "Please Press ENTER to continue \n",
      "o roll: 2 & p roll: 1\n",
      "Round was won by o\n",
      "**********************\n",
      "______________________\n",
      "End of the Game\n",
      "_____________________\n",
      "Game was won by o ,o have won,2 out of 3\n",
      "Please Press ENTER to continue \n",
      "o roll: 6 & p roll: 1\n",
      "Round was won by o\n",
      "**********************\n",
      "______________________\n",
      "End of the Game\n",
      "_____________________\n",
      "Game was won by o ,o have won,3 out of 3\n"
     ]
    }
   ],
   "source": [
    "dice_game(3)"
   ]
  },
  {
   "cell_type": "code",
   "execution_count": null,
   "id": "4fe343a8",
   "metadata": {},
   "outputs": [],
   "source": []
  },
  {
   "cell_type": "code",
   "execution_count": null,
   "id": "f2df9f88",
   "metadata": {},
   "outputs": [],
   "source": []
  }
 ],
 "metadata": {
  "kernelspec": {
   "display_name": "Python 3",
   "language": "python",
   "name": "python3"
  },
  "language_info": {
   "codemirror_mode": {
    "name": "ipython",
    "version": 3
   },
   "file_extension": ".py",
   "mimetype": "text/x-python",
   "name": "python",
   "nbconvert_exporter": "python",
   "pygments_lexer": "ipython3",
   "version": "3.8.8"
  }
 },
 "nbformat": 4,
 "nbformat_minor": 5
}
